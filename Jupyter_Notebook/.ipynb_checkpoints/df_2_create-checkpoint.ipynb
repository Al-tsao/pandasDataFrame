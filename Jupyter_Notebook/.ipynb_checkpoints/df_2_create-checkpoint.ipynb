{
 "cells": [
  {
   "cell_type": "code",
   "execution_count": 2,
   "id": "b285e400",
   "metadata": {},
   "outputs": [],
   "source": [
    "import pandas as pd\n",
    "import numpy as np"
   ]
  },
  {
   "cell_type": "markdown",
   "id": "f5086cf3",
   "metadata": {},
   "source": [
    "## Create"
   ]
  },
  {
   "cell_type": "code",
   "execution_count": null,
   "id": "5e8ecc44",
   "metadata": {},
   "outputs": [],
   "source": [
    "RawData = { \n",
    "    \"Day\":['9/4', '9/5', '9/6', '9/7', '9/8', '9/9', '9/10', '9/11'],\n",
    "    \"Revnue\":[100, 120, 130, 110, 200, 160, 100, 180],\n",
    "    \"Cost\":[10.0, 12.0, 13.0, 11.0, 20.0, 16.0, 10.0, 18.0]\n",
    "}\n",
    "df = pd.DataFrame(RawData)\n",
    "df"
   ]
  }
 ],
 "metadata": {
  "kernelspec": {
   "display_name": "Python 3 (ipykernel)",
   "language": "python",
   "name": "python3"
  },
  "language_info": {
   "codemirror_mode": {
    "name": "ipython",
    "version": 3
   },
   "file_extension": ".py",
   "mimetype": "text/x-python",
   "name": "python",
   "nbconvert_exporter": "python",
   "pygments_lexer": "ipython3",
   "version": "3.9.7"
  }
 },
 "nbformat": 4,
 "nbformat_minor": 5
}
