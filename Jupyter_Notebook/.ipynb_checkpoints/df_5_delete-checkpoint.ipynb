{
 "cells": [
  {
   "cell_type": "code",
   "execution_count": 3,
   "id": "54ad98bd",
   "metadata": {},
   "outputs": [],
   "source": [
    "import pandas as pd\n",
    "import numpy as np"
   ]
  },
  {
   "cell_type": "markdown",
   "id": "dc86c5f5",
   "metadata": {},
   "source": [
    "**1.刪除特定row**"
   ]
  },
  {
   "cell_type": "code",
   "execution_count": 4,
   "id": "2ed39fd5",
   "metadata": {},
   "outputs": [
    {
     "data": {
      "text/html": [
       "<div>\n",
       "<style scoped>\n",
       "    .dataframe tbody tr th:only-of-type {\n",
       "        vertical-align: middle;\n",
       "    }\n",
       "\n",
       "    .dataframe tbody tr th {\n",
       "        vertical-align: top;\n",
       "    }\n",
       "\n",
       "    .dataframe thead th {\n",
       "        text-align: right;\n",
       "    }\n",
       "</style>\n",
       "<table border=\"1\" class=\"dataframe\">\n",
       "  <thead>\n",
       "    <tr style=\"text-align: right;\">\n",
       "      <th></th>\n",
       "      <th>Name</th>\n",
       "      <th>Age</th>\n",
       "      <th>Grade</th>\n",
       "    </tr>\n",
       "  </thead>\n",
       "  <tbody>\n",
       "    <tr>\n",
       "      <th>0</th>\n",
       "      <td>Jhon</td>\n",
       "      <td>15</td>\n",
       "      <td>A</td>\n",
       "    </tr>\n",
       "    <tr>\n",
       "      <th>1</th>\n",
       "      <td>Anna</td>\n",
       "      <td>19</td>\n",
       "      <td>B</td>\n",
       "    </tr>\n",
       "    <tr>\n",
       "      <th>2</th>\n",
       "      <td>Paul</td>\n",
       "      <td>25</td>\n",
       "      <td>D</td>\n",
       "    </tr>\n",
       "  </tbody>\n",
       "</table>\n",
       "</div>"
      ],
      "text/plain": [
       "   Name  Age Grade\n",
       "0  Jhon   15     A\n",
       "1  Anna   19     B\n",
       "2  Paul   25     D"
      ]
     },
     "execution_count": 4,
     "metadata": {},
     "output_type": "execute_result"
    }
   ],
   "source": [
    "df = pd.DataFrame([['Jhon',15,'A'],['Anna',19,'B'],['Paul',25,'D']])\n",
    "df.columns = ['Name','Age','Grade']\n",
    "df"
   ]
  },
  {
   "cell_type": "code",
   "execution_count": 5,
   "id": "bc5d4cf1",
   "metadata": {},
   "outputs": [
    {
     "data": {
      "text/plain": [
       "[0]"
      ]
     },
     "execution_count": 5,
     "metadata": {},
     "output_type": "execute_result"
    }
   ],
   "source": [
    "i = df[((df.Name == 'Jhon') & ( df.Age == 15) & (df.Grade == 'A'))]\n",
    "i"
   ]
  },
  {
   "cell_type": "code",
   "execution_count": null,
   "id": "451b15b8",
   "metadata": {},
   "outputs": [],
   "source": [
    "df_dropRow = df.drop(i, axis=0)\n",
    "df_dropRow"
   ]
  },
  {
   "cell_type": "markdown",
   "id": "6cced46e",
   "metadata": {},
   "source": [
    "**2.刪除特定column**"
   ]
  },
  {
   "cell_type": "code",
   "execution_count": null,
   "id": "51f415a6",
   "metadata": {},
   "outputs": [],
   "source": [
    "df_dropColumn = df.drop(['Age'], axis=1)\n",
    "df_dropColumndf = pd.DataFrame([['Jhon',15,'A'],['Anna',19,'B'],['Paul',25,'D']])\n",
    "df.columns = ['Name','Age','Grade']\n",
    "df"
   ]
  },
  {
   "cell_type": "code",
   "execution_count": null,
   "id": "7fb3a58f",
   "metadata": {},
   "outputs": [],
   "source": [
    "df_dropColumn = df.drop(['Age'], axis=1)\n",
    "df_dropColumn"
   ]
  }
 ],
 "metadata": {
  "kernelspec": {
   "display_name": "Python 3 (ipykernel)",
   "language": "python",
   "name": "python3"
  },
  "language_info": {
   "codemirror_mode": {
    "name": "ipython",
    "version": 3
   },
   "file_extension": ".py",
   "mimetype": "text/x-python",
   "name": "python",
   "nbconvert_exporter": "python",
   "pygments_lexer": "ipython3",
   "version": "3.9.7"
  }
 },
 "nbformat": 4,
 "nbformat_minor": 5
}
