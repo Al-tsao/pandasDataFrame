{
 "cells": [
  {
   "cell_type": "code",
   "execution_count": null,
   "id": "64034008",
   "metadata": {},
   "outputs": [],
   "source": [
    "import pandas as pd\n",
    "import numpy as np"
   ]
  },
  {
   "cell_type": "markdown",
   "id": "dc86c5f5",
   "metadata": {},
   "source": [
    "**1.刪除特定row**"
   ]
  },
  {
   "cell_type": "code",
   "execution_count": null,
   "id": "76886a7b",
   "metadata": {},
   "outputs": [],
   "source": [
    "df = pd.DataFrame([['Jhon',15,'A'],['Anna',19,'B'],['Paul',25,'D']])\n",
    "df.columns = ['Name','Age','Grade']\n",
    "df"
   ]
  },
  {
   "cell_type": "code",
   "execution_count": null,
   "id": "95ec2ab8",
   "metadata": {},
   "outputs": [],
   "source": [
    "i = df[(df.Name == 'Jhon') & ( df.Age == 15) & (df.Grade == 'A')].index.tolist()"
   ]
  },
  {
   "cell_type": "code",
   "execution_count": null,
   "id": "ddb09f39",
   "metadata": {},
   "outputs": [],
   "source": [
    "df_dropRow = df.drop(i, axis=0)\n",
    "df_dropRow"
   ]
  },
  {
   "cell_type": "markdown",
   "id": "6cced46e",
   "metadata": {},
   "source": [
    "**2.刪除特定column**"
   ]
  },
  {
   "cell_type": "code",
   "execution_count": null,
   "id": "51f415a6",
   "metadata": {},
   "outputs": [],
   "source": [
    "df_dropColumndf = pd.DataFrame([['Jhon',15,'A'],['Anna',19,'B'],['Paul',25,'D']])\n",
    "df.columns = ['Name','Age','Grade']\n",
    "df"
   ]
  },
  {
   "cell_type": "code",
   "execution_count": null,
   "id": "7fb3a58f",
   "metadata": {},
   "outputs": [],
   "source": [
    "df_dropColumn = df.drop(['Age'], axis=1)\n",
    "df_dropColumn"
   ]
  }
 ],
 "metadata": {
  "kernelspec": {
   "display_name": "Python 3 (ipykernel)",
   "language": "python",
   "name": "python3"
  },
  "language_info": {
   "codemirror_mode": {
    "name": "ipython",
    "version": 3
   },
   "file_extension": ".py",
   "mimetype": "text/x-python",
   "name": "python",
   "nbconvert_exporter": "python",
   "pygments_lexer": "ipython3",
   "version": "3.9.7"
  }
 },
 "nbformat": 4,
 "nbformat_minor": 5
}
