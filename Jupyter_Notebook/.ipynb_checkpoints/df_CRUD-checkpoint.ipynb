{
 "cells": [
  {
   "cell_type": "code",
   "execution_count": 2,
   "id": "f7d23379",
   "metadata": {},
   "outputs": [],
   "source": [
    "import pandas as pd\n",
    "import numpy as np"
   ]
  },
  {
   "cell_type": "markdown",
   "id": "f5086cf3",
   "metadata": {},
   "source": [
    "## Create"
   ]
  },
  {
   "cell_type": "code",
   "execution_count": null,
   "id": "9d894e2f",
   "metadata": {},
   "outputs": [],
   "source": [
    "RawData = { \"Day\":['9/4', '9/5', '9/6', '9/7', '9/8', '9/9', '9/10', '9/11'],\n",
    "            \"Revnue\":[100, 120, 130, 110, 200, 160, 100, 180],\n",
    "            \"Cost\":[10.0, 12.0, 13.0, 11.0, 20.0, 16.0, 10.0, 18.0]}\n",
    "df = pd.DataFrame(RawData)\n",
    "df"
   ]
  },
  {
   "cell_type": "markdown",
   "id": "3399bc19",
   "metadata": {},
   "source": [
    "## Read"
   ]
  },
  {
   "cell_type": "markdown",
   "id": "d106ca93",
   "metadata": {},
   "source": [
    "**1.讀取檔案**"
   ]
  },
  {
   "cell_type": "code",
   "execution_count": null,
   "id": "b75be727",
   "metadata": {},
   "outputs": [],
   "source": [
    "df = pd.read_csv('kc_house_data.csv')\n",
    "df"
   ]
  },
  {
   "cell_type": "markdown",
   "id": "503c31dd",
   "metadata": {},
   "source": [
    "**2.提取DataFrame中特定位置**"
   ]
  },
  {
   "cell_type": "markdown",
   "id": "6384add5",
   "metadata": {},
   "source": [
    "## Update"
   ]
  },
  {
   "cell_type": "markdown",
   "id": "fa8a2bce",
   "metadata": {},
   "source": [
    "**1.修改特定的row**"
   ]
  },
  {
   "cell_type": "code",
   "execution_count": null,
   "id": "44c589a1",
   "metadata": {},
   "outputs": [],
   "source": [
    "data = pd.DataFrame(np.arange(16).reshape(4,4), index = list('abcd'), columns = list('ABCD'))\n",
    "data"
   ]
  },
  {
   "cell_type": "code",
   "execution_count": null,
   "id": "69273e75",
   "metadata": {},
   "outputs": [],
   "source": [
    "#取索引為'a'的row\n",
    "data.loc['a'] = ['A', 'B', 'C', 'D']\n",
    "data.iloc[0]\n",
    "data"
   ]
  },
  {
   "cell_type": "markdown",
   "id": "c6363590",
   "metadata": {},
   "source": [
    "**2.修改特定的column**"
   ]
  },
  {
   "cell_type": "code",
   "execution_count": null,
   "id": "ba524190",
   "metadata": {},
   "outputs": [],
   "source": [
    "data = pd.DataFrame(np.arange(16).reshape(4,4), index = list('abcd'), columns = list('ABCD'))\n",
    "data"
   ]
  },
  {
   "cell_type": "code",
   "execution_count": null,
   "id": "e71e268b",
   "metadata": {},
   "outputs": [],
   "source": [
    "#取'A'的column\n",
    "data.loc[:,['A']] = ['A', 'B', 'C', 'D']\n",
    "data.iloc[:,[0]]\n",
    "data"
   ]
  },
  {
   "cell_type": "markdown",
   "id": "80102180",
   "metadata": {},
   "source": [
    "**3.修改全部column**"
   ]
  },
  {
   "cell_type": "code",
   "execution_count": null,
   "id": "8e34e6ea",
   "metadata": {},
   "outputs": [],
   "source": [
    "#方法一\n",
    "df = pd.read_csv('nst-est2020.csv')\n",
    "df.columns = ['A', 'B', 'C', 'D', 'E', 'F', 'G', 'H', 'I', 'J', 'K', 'L', 'M', 'N', 'O', 'P', 'Q', 'R', 'S']\n",
    "df"
   ]
  },
  {
   "cell_type": "code",
   "execution_count": null,
   "id": "85069a87",
   "metadata": {},
   "outputs": [],
   "source": [
    "#方法二\n",
    "columnNames = ['A', 'B', 'C', 'D', 'E', 'F', 'G', 'H', 'I', 'J', 'K', 'L', 'M', 'N', 'O', 'P', 'Q', 'R', 'S']\n",
    "df = pd.read_csv('nst-est2020.csv', names = columnNames, header = 0)\n",
    "df"
   ]
  },
  {
   "cell_type": "markdown",
   "id": "e6921d0b",
   "metadata": {},
   "source": [
    "**4.插入特定row**"
   ]
  },
  {
   "cell_type": "code",
   "execution_count": null,
   "id": "89c567f7",
   "metadata": {},
   "outputs": [],
   "source": []
  },
  {
   "cell_type": "markdown",
   "id": "7b0f1308",
   "metadata": {},
   "source": [
    "**5.插入特定column**"
   ]
  },
  {
   "cell_type": "code",
   "execution_count": null,
   "id": "6d65293e",
   "metadata": {},
   "outputs": [],
   "source": []
  },
  {
   "cell_type": "markdown",
   "id": "e87d8946",
   "metadata": {},
   "source": [
    "## Delete"
   ]
  },
  {
   "cell_type": "markdown",
   "id": "dc86c5f5",
   "metadata": {},
   "source": [
    "**1.刪除特定row**"
   ]
  },
  {
   "cell_type": "code",
   "execution_count": 9,
   "id": "79330277",
   "metadata": {},
   "outputs": [],
   "source": [
    "df = pd.DataFrame([['Jhon',15,'A'],['Anna',19,'B'],['Paul',25,'D']])\n",
    "df.columns = ['Name','Age','Grade']"
   ]
  },
  {
   "cell_type": "code",
   "execution_count": 15,
   "id": "f7524d1e",
   "metadata": {},
   "outputs": [],
   "source": [
    "i = df[((df.Name == 'Jhon') & ( df.Age == 15) & (df.Grade == 'A'))].index.tolist()\n",
    "df_dropRow = df.drop(i, axis=0)\n",
    "df_dropRow"
   ]
  },
  {
   "cell_type": "markdown",
   "id": "6cced46e",
   "metadata": {},
   "source": [
    "**2.刪除特定column**"
   ]
  },
  {
   "cell_type": "code",
   "execution_count": null,
   "id": "51f415a6",
   "metadata": {},
   "outputs": [],
   "source": [
    "df = pd.DataFrame([['Jhon',15,'A'],['Anna',19,'B'],['Paul',25,'D']])\n",
    "df.columns = ['Name','Age','Grade']\n",
    "df"
   ]
  },
  {
   "cell_type": "code",
   "execution_count": null,
   "id": "7fb3a58f",
   "metadata": {},
   "outputs": [],
   "source": [
    "df_dropColumn = df.drop(['Age'], axis=1)\n",
    "df_dropColumn"
   ]
  }
 ],
 "metadata": {
  "kernelspec": {
   "display_name": "Python 3 (ipykernel)",
   "language": "python",
   "name": "python3"
  },
  "language_info": {
   "codemirror_mode": {
    "name": "ipython",
    "version": 3
   },
   "file_extension": ".py",
   "mimetype": "text/x-python",
   "name": "python",
   "nbconvert_exporter": "python",
   "pygments_lexer": "ipython3",
   "version": "3.9.7"
  }
 },
 "nbformat": 4,
 "nbformat_minor": 5
}
