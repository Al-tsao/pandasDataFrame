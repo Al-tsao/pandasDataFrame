{
 "cells": [
  {
   "cell_type": "code",
   "execution_count": null,
   "id": "107cb46e",
   "metadata": {},
   "outputs": [],
   "source": [
    "import pandas as pd\n",
    "import numpy as np"
   ]
  },
  {
   "cell_type": "markdown",
   "id": "afd94b00",
   "metadata": {},
   "source": [
    "## By values"
   ]
  },
  {
   "cell_type": "code",
   "execution_count": null,
   "id": "0d77d0a2",
   "metadata": {},
   "outputs": [],
   "source": [
    "df = pd.DataFrame({\n",
    "    'col1': ['A', 'A', 'B', np.nan, 'D', 'C'],\n",
    "    'col2': [2, 1, 9, 8, 7, 4],\n",
    "    'col3': [0, 1, 9, 4, 2, 3],\n",
    "    'col4': ['a', 'B', 'c', 'D', 'e', 'F']\n",
    "})\n",
    "df"
   ]
  },
  {
   "cell_type": "markdown",
   "id": "21d81fc7",
   "metadata": {},
   "source": [
    "**1.Sort by column**"
   ]
  },
  {
   "cell_type": "code",
   "execution_count": null,
   "id": "200b2fb5",
   "metadata": {},
   "outputs": [],
   "source": [
    "df.sort_values(by=['col1'])"
   ]
  },
  {
   "cell_type": "markdown",
   "id": "754b501b",
   "metadata": {},
   "source": [
    "**2.Sort by multiple columns**"
   ]
  },
  {
   "cell_type": "code",
   "execution_count": null,
   "id": "ba56b900",
   "metadata": {},
   "outputs": [],
   "source": [
    "df.sort_values(by=['col1', 'col2'])"
   ]
  },
  {
   "cell_type": "markdown",
   "id": "cfc72a21",
   "metadata": {},
   "source": [
    "**3.Sort Descending**"
   ]
  },
  {
   "cell_type": "code",
   "execution_count": null,
   "id": "1f6e7fc5",
   "metadata": {},
   "outputs": [],
   "source": [
    "df.sort_values(by='col1', ascending=False)"
   ]
  },
  {
   "cell_type": "markdown",
   "id": "362e211d",
   "metadata": {},
   "source": [
    "**4.Sort Descending**"
   ]
  },
  {
   "cell_type": "code",
   "execution_count": null,
   "id": "4bc2118e",
   "metadata": {},
   "outputs": [],
   "source": [
    "df.sort_values(by='col1', ascending=False, na_position='first')"
   ]
  },
  {
   "cell_type": "markdown",
   "id": "34534d9b",
   "metadata": {},
   "source": [
    "## By index"
   ]
  }
 ],
 "metadata": {
  "kernelspec": {
   "display_name": "Python 3 (ipykernel)",
   "language": "python",
   "name": "python3"
  },
  "language_info": {
   "codemirror_mode": {
    "name": "ipython",
    "version": 3
   },
   "file_extension": ".py",
   "mimetype": "text/x-python",
   "name": "python",
   "nbconvert_exporter": "python",
   "pygments_lexer": "ipython3",
   "version": "3.9.7"
  }
 },
 "nbformat": 4,
 "nbformat_minor": 5
}
