{
 "cells": [
  {
   "cell_type": "code",
   "execution_count": null,
   "id": "2db07f97",
   "metadata": {},
   "outputs": [],
   "source": [
    "import pandas as pd\n",
    "import numpy as np"
   ]
  },
  {
   "cell_type": "code",
   "execution_count": null,
   "id": "5e3ab4f1",
   "metadata": {},
   "outputs": [],
   "source": [
    "RawData = { \"Day\":['9/4', '9/5', '9/6', '9/7', '9/8', '9/9', '9/10', '9/11'],\n",
    "            \"Revenue\":[100, 120, 130, 110, 200, 160, 100, 180],\n",
    "            \"Cost\":[10.0, 10.0, 13.0, 11.0, 20.0, 16.0, 10.0, 18.0]}"
   ]
  },
  {
   "cell_type": "code",
   "execution_count": null,
   "id": "09db0cdb",
   "metadata": {},
   "outputs": [],
   "source": [
    "df = pd.DataFrame(RawData)\n",
    "df"
   ]
  },
  {
   "cell_type": "markdown",
   "id": "e615ea73",
   "metadata": {},
   "source": [
    "**1. 使用Boolean篩選**"
   ]
  },
  {
   "cell_type": "markdown",
   "id": "eb4ec17b",
   "metadata": {},
   "source": [
    "1.1 單一條件"
   ]
  },
  {
   "cell_type": "code",
   "execution_count": null,
   "id": "618acd0f",
   "metadata": {},
   "outputs": [],
   "source": [
    "mask = df['Day']=='9/4'\n",
    "df[mask]"
   ]
  }
 ],
 "metadata": {
  "kernelspec": {
   "display_name": "Python 3 (ipykernel)",
   "language": "python",
   "name": "python3"
  },
  "language_info": {
   "codemirror_mode": {
    "name": "ipython",
    "version": 3
   },
   "file_extension": ".py",
   "mimetype": "text/x-python",
   "name": "python",
   "nbconvert_exporter": "python",
   "pygments_lexer": "ipython3",
   "version": "3.9.7"
  }
 },
 "nbformat": 4,
 "nbformat_minor": 5
}
