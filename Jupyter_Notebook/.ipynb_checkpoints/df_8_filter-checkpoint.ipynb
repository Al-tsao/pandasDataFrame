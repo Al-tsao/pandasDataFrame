{
 "cells": [
  {
   "cell_type": "code",
   "execution_count": 2,
   "id": "2db07f97",
   "metadata": {},
   "outputs": [],
   "source": [
    "import pandas as pd\n",
    "import numpy as np"
   ]
  },
  {
   "cell_type": "code",
   "execution_count": 3,
   "id": "5e3ab4f1",
   "metadata": {},
   "outputs": [
    {
     "data": {
      "text/html": [
       "<div>\n",
       "<style scoped>\n",
       "    .dataframe tbody tr th:only-of-type {\n",
       "        vertical-align: middle;\n",
       "    }\n",
       "\n",
       "    .dataframe tbody tr th {\n",
       "        vertical-align: top;\n",
       "    }\n",
       "\n",
       "    .dataframe thead th {\n",
       "        text-align: right;\n",
       "    }\n",
       "</style>\n",
       "<table border=\"1\" class=\"dataframe\">\n",
       "  <thead>\n",
       "    <tr style=\"text-align: right;\">\n",
       "      <th></th>\n",
       "      <th>Day</th>\n",
       "      <th>Revenue</th>\n",
       "      <th>Cost</th>\n",
       "    </tr>\n",
       "  </thead>\n",
       "  <tbody>\n",
       "    <tr>\n",
       "      <th>0</th>\n",
       "      <td>9/4</td>\n",
       "      <td>100</td>\n",
       "      <td>10.0</td>\n",
       "    </tr>\n",
       "    <tr>\n",
       "      <th>1</th>\n",
       "      <td>9/5</td>\n",
       "      <td>120</td>\n",
       "      <td>10.0</td>\n",
       "    </tr>\n",
       "    <tr>\n",
       "      <th>2</th>\n",
       "      <td>9/6</td>\n",
       "      <td>130</td>\n",
       "      <td>13.0</td>\n",
       "    </tr>\n",
       "    <tr>\n",
       "      <th>3</th>\n",
       "      <td>9/7</td>\n",
       "      <td>110</td>\n",
       "      <td>11.0</td>\n",
       "    </tr>\n",
       "    <tr>\n",
       "      <th>4</th>\n",
       "      <td>9/8</td>\n",
       "      <td>200</td>\n",
       "      <td>20.0</td>\n",
       "    </tr>\n",
       "    <tr>\n",
       "      <th>5</th>\n",
       "      <td>9/9</td>\n",
       "      <td>160</td>\n",
       "      <td>16.0</td>\n",
       "    </tr>\n",
       "    <tr>\n",
       "      <th>6</th>\n",
       "      <td>9/10</td>\n",
       "      <td>100</td>\n",
       "      <td>10.0</td>\n",
       "    </tr>\n",
       "    <tr>\n",
       "      <th>7</th>\n",
       "      <td>9/11</td>\n",
       "      <td>180</td>\n",
       "      <td>18.0</td>\n",
       "    </tr>\n",
       "  </tbody>\n",
       "</table>\n",
       "</div>"
      ],
      "text/plain": [
       "    Day  Revenue  Cost\n",
       "0   9/4      100  10.0\n",
       "1   9/5      120  10.0\n",
       "2   9/6      130  13.0\n",
       "3   9/7      110  11.0\n",
       "4   9/8      200  20.0\n",
       "5   9/9      160  16.0\n",
       "6  9/10      100  10.0\n",
       "7  9/11      180  18.0"
      ]
     },
     "execution_count": 3,
     "metadata": {},
     "output_type": "execute_result"
    }
   ],
   "source": [
    "RawData = { \"Day\":['9/4', '9/5', '9/6', '9/7', '9/8', '9/9', '9/10', '9/11'],\n",
    "            \"Revenue\":[100, 120, 130, 110, 200, 160, 100, 180],\n",
    "            \"Cost\":[10.0, 10.0, 13.0, 11.0, 20.0, 16.0, 10.0, 18.0]}\n",
    "df = pd.DataFrame(RawData)\n",
    "df"
   ]
  },
  {
   "cell_type": "markdown",
   "id": "e615ea73",
   "metadata": {},
   "source": [
    "**1. 使用Boolean篩選**"
   ]
  },
  {
   "cell_type": "markdown",
   "id": "eb4ec17b",
   "metadata": {},
   "source": [
    "1.1 單一條件"
   ]
  },
  {
   "cell_type": "code",
   "execution_count": null,
   "id": "618acd0f",
   "metadata": {},
   "outputs": [],
   "source": [
    "mask = df['Day']=='9/4'\n",
    "df[mask]"
   ]
  },
  {
   "cell_type": "markdown",
   "id": "c6f5f792",
   "metadata": {},
   "source": [
    "1.2 多條件篩選"
   ]
  },
  {
   "cell_type": "code",
   "execution_count": null,
   "id": "eb9b23b9",
   "metadata": {},
   "outputs": [],
   "source": [
    "mask = (df['Day'] == '9/11') & ( df['Revenue'] == 180) & (df['Cost'] == 18.0)\n",
    "df[mask]"
   ]
  },
  {
   "cell_type": "markdown",
   "id": "2e17d044",
   "metadata": {},
   "source": [
    "1.3 使用Boolean選到特定的index"
   ]
  },
  {
   "cell_type": "code",
   "execution_count": null,
   "id": "f2235247",
   "metadata": {},
   "outputs": [],
   "source": [
    "i = df[((df['Day'] == '9/11') & ( df['Revenue'] == 180) & (df['Cost'] == 18.0))].index.tolist()"
   ]
  },
  {
   "cell_type": "markdown",
   "id": "79ac967b",
   "metadata": {},
   "source": [
    "**2. 使用where: 讓不符合的值變成NaN**"
   ]
  },
  {
   "cell_type": "code",
   "execution_count": null,
   "id": "3f652668",
   "metadata": {},
   "outputs": [],
   "source": [
    "mask = df['Day'] != '9/4' \n",
    "df.where(mask)"
   ]
  },
  {
   "cell_type": "markdown",
   "id": "afa5d925",
   "metadata": {},
   "source": [
    "**3. isin**"
   ]
  },
  {
   "cell_type": "code",
   "execution_count": 4,
   "id": "658e5c70",
   "metadata": {},
   "outputs": [
    {
     "data": {
      "text/html": [
       "<div>\n",
       "<style scoped>\n",
       "    .dataframe tbody tr th:only-of-type {\n",
       "        vertical-align: middle;\n",
       "    }\n",
       "\n",
       "    .dataframe tbody tr th {\n",
       "        vertical-align: top;\n",
       "    }\n",
       "\n",
       "    .dataframe thead th {\n",
       "        text-align: right;\n",
       "    }\n",
       "</style>\n",
       "<table border=\"1\" class=\"dataframe\">\n",
       "  <thead>\n",
       "    <tr style=\"text-align: right;\">\n",
       "      <th></th>\n",
       "      <th>Day</th>\n",
       "      <th>Revenue</th>\n",
       "      <th>Cost</th>\n",
       "    </tr>\n",
       "  </thead>\n",
       "  <tbody>\n",
       "    <tr>\n",
       "      <th>0</th>\n",
       "      <td>9/4</td>\n",
       "      <td>100</td>\n",
       "      <td>10.0</td>\n",
       "    </tr>\n",
       "    <tr>\n",
       "      <th>7</th>\n",
       "      <td>9/11</td>\n",
       "      <td>180</td>\n",
       "      <td>18.0</td>\n",
       "    </tr>\n",
       "  </tbody>\n",
       "</table>\n",
       "</div>"
      ],
      "text/plain": [
       "    Day  Revenue  Cost\n",
       "0   9/4      100  10.0\n",
       "7  9/11      180  18.0"
      ]
     },
     "execution_count": 4,
     "metadata": {},
     "output_type": "execute_result"
    }
   ],
   "source": [
    "mask = df['Day'].isin(['9/4', '9/11'])\n",
    "df[mask]"
   ]
  }
 ],
 "metadata": {
  "kernelspec": {
   "display_name": "Python 3 (ipykernel)",
   "language": "python",
   "name": "python3"
  },
  "language_info": {
   "codemirror_mode": {
    "name": "ipython",
    "version": 3
   },
   "file_extension": ".py",
   "mimetype": "text/x-python",
   "name": "python",
   "nbconvert_exporter": "python",
   "pygments_lexer": "ipython3",
   "version": "3.9.7"
  }
 },
 "nbformat": 4,
 "nbformat_minor": 5
}
