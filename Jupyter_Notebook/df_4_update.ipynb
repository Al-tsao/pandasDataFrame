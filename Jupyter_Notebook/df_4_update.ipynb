{
 "cells": [
  {
   "cell_type": "code",
   "execution_count": 1,
   "id": "f200d7bc",
   "metadata": {},
   "outputs": [],
   "source": [
    "import pandas as pd\n",
    "import numpy as np"
   ]
  },
  {
   "cell_type": "code",
   "execution_count": 2,
   "id": "4b353ab5",
   "metadata": {},
   "outputs": [
    {
     "data": {
      "text/html": [
       "<div>\n",
       "<style scoped>\n",
       "    .dataframe tbody tr th:only-of-type {\n",
       "        vertical-align: middle;\n",
       "    }\n",
       "\n",
       "    .dataframe tbody tr th {\n",
       "        vertical-align: top;\n",
       "    }\n",
       "\n",
       "    .dataframe thead th {\n",
       "        text-align: right;\n",
       "    }\n",
       "</style>\n",
       "<table border=\"1\" class=\"dataframe\">\n",
       "  <thead>\n",
       "    <tr style=\"text-align: right;\">\n",
       "      <th></th>\n",
       "      <th>A</th>\n",
       "      <th>B</th>\n",
       "      <th>C</th>\n",
       "      <th>D</th>\n",
       "    </tr>\n",
       "  </thead>\n",
       "  <tbody>\n",
       "    <tr>\n",
       "      <th>a</th>\n",
       "      <td>0</td>\n",
       "      <td>1</td>\n",
       "      <td>2</td>\n",
       "      <td>3</td>\n",
       "    </tr>\n",
       "    <tr>\n",
       "      <th>b</th>\n",
       "      <td>4</td>\n",
       "      <td>5</td>\n",
       "      <td>6</td>\n",
       "      <td>7</td>\n",
       "    </tr>\n",
       "    <tr>\n",
       "      <th>c</th>\n",
       "      <td>8</td>\n",
       "      <td>9</td>\n",
       "      <td>10</td>\n",
       "      <td>11</td>\n",
       "    </tr>\n",
       "    <tr>\n",
       "      <th>d</th>\n",
       "      <td>12</td>\n",
       "      <td>13</td>\n",
       "      <td>14</td>\n",
       "      <td>15</td>\n",
       "    </tr>\n",
       "  </tbody>\n",
       "</table>\n",
       "</div>"
      ],
      "text/plain": [
       "    A   B   C   D\n",
       "a   0   1   2   3\n",
       "b   4   5   6   7\n",
       "c   8   9  10  11\n",
       "d  12  13  14  15"
      ]
     },
     "execution_count": 2,
     "metadata": {},
     "output_type": "execute_result"
    }
   ],
   "source": [
    "data = pd.DataFrame(np.arange(16).reshape(4,4), index = list('abcd'), columns = list('ABCD'))\n",
    "data"
   ]
  },
  {
   "cell_type": "markdown",
   "id": "4d494ae5",
   "metadata": {},
   "source": [
    "**1. 修改特定的row**"
   ]
  },
  {
   "cell_type": "markdown",
   "id": "0a8d7d6b",
   "metadata": {},
   "source": [
    "1.1修改'a'的row"
   ]
  },
  {
   "cell_type": "code",
   "execution_count": null,
   "id": "9acae580",
   "metadata": {},
   "outputs": [],
   "source": [
    "data.loc['a'] = ['A', 'B', 'C', 'D']\n",
    "data"
   ]
  },
  {
   "cell_type": "code",
   "execution_count": null,
   "id": "1dd6ae84",
   "metadata": {},
   "outputs": [],
   "source": [
    "data.iloc[0] = ['A', 'B', 'C', 'E']\n",
    "data"
   ]
  },
  {
   "cell_type": "markdown",
   "id": "c6363590",
   "metadata": {},
   "source": [
    "**2. 修改特定的column**"
   ]
  },
  {
   "cell_type": "markdown",
   "id": "813b46b6",
   "metadata": {},
   "source": [
    "2.1修改'A'的column"
   ]
  },
  {
   "cell_type": "code",
   "execution_count": null,
   "id": "d07910d7",
   "metadata": {},
   "outputs": [],
   "source": [
    "data.loc[:,['A']] = ['A', 'B', 'C', 'D']\n",
    "data"
   ]
  },
  {
   "cell_type": "code",
   "execution_count": null,
   "id": "6c8926f7",
   "metadata": {},
   "outputs": [],
   "source": [
    "data.iloc[:,[0]] = ['A', 'B', 'C', 'E']\n",
    "data"
   ]
  },
  {
   "cell_type": "markdown",
   "id": "45cf378a",
   "metadata": {},
   "source": [
    "**3. 修改全部column**"
   ]
  },
  {
   "cell_type": "code",
   "execution_count": null,
   "id": "b4ec57bd",
   "metadata": {},
   "outputs": [],
   "source": [
    "data.columns = ['W', 'X', 'Y', 'Z']\n",
    "data"
   ]
  },
  {
   "cell_type": "markdown",
   "id": "e6921d0b",
   "metadata": {},
   "source": [
    "**4. 插入特定row**"
   ]
  },
  {
   "cell_type": "markdown",
   "id": "107141d8",
   "metadata": {},
   "source": [
    "4.1 插入到最後一row後面"
   ]
  },
  {
   "cell_type": "code",
   "execution_count": null,
   "id": "50509287",
   "metadata": {},
   "outputs": [],
   "source": [
    "data = pd.DataFrame(np.arange(16).reshape(4,4), index = list('abcd'), columns = list('ABCD'))\n",
    "dataAdd = pd.DataFrame(np.arange(4).reshape(1,4), index = list('e'), columns = list('ABCD'))\n",
    "data = data.append(dataAdd)\n",
    "data"
   ]
  },
  {
   "cell_type": "markdown",
   "id": "3eb1e193",
   "metadata": {},
   "source": [
    "4.2 插入到指定row後面"
   ]
  },
  {
   "cell_type": "code",
   "execution_count": null,
   "id": "2e7a6d9a",
   "metadata": {},
   "outputs": [],
   "source": [
    "data = pd.DataFrame(np.arange(16).reshape(4,4), index = list('abcd'), columns = list('ABCD'))\n",
    "dataAdd = pd.DataFrame(np.arange(4).reshape(1,4), index = list('e'), columns = list('ABCD'))\n",
    "data1 = data.iloc[:1, :]\n",
    "data2 = data.iloc[1:, :]\n",
    "dataNew = pd.concat([data1, dataAdd, data2])\n",
    "dataNew"
   ]
  },
  {
   "cell_type": "markdown",
   "id": "7b0f1308",
   "metadata": {},
   "source": [
    "**5. 插入特定column**"
   ]
  },
  {
   "cell_type": "markdown",
   "id": "a144ebf0",
   "metadata": {},
   "source": [
    "5.1 插入到最後一column之後"
   ]
  },
  {
   "cell_type": "code",
   "execution_count": null,
   "id": "89819b26",
   "metadata": {},
   "outputs": [],
   "source": [
    "data = pd.DataFrame(np.arange(16).reshape(4,4), index = list('abcd'), columns = list('ABCD'))\n",
    "data['E'] = ['W', 'X', 'Y', 'Z']\n",
    "data"
   ]
  },
  {
   "cell_type": "markdown",
   "id": "13744202",
   "metadata": {},
   "source": [
    "5.2 插入到指定column後面"
   ]
  },
  {
   "cell_type": "code",
   "execution_count": null,
   "id": "3564bacd",
   "metadata": {},
   "outputs": [],
   "source": [
    "dataRangeD = pd.date_range(start = '2021/09/01', end = '2021/9/30', freq = '1D') #freq = '1D': 間格是以1天為單位\n",
    "dates = pd.DataFrame(dataRangeD, columns = ['Date'])\n",
    "dates['Data'] = [1]*dates.shape[0]\n",
    "dates.insert(1, \"Day of Week\", dates['Date'].dt.day_name())\n",
    "dates"
   ]
  }
 ],
 "metadata": {
  "kernelspec": {
   "display_name": "Python 3 (ipykernel)",
   "language": "python",
   "name": "python3"
  },
  "language_info": {
   "codemirror_mode": {
    "name": "ipython",
    "version": 3
   },
   "file_extension": ".py",
   "mimetype": "text/x-python",
   "name": "python",
   "nbconvert_exporter": "python",
   "pygments_lexer": "ipython3",
   "version": "3.9.7"
  }
 },
 "nbformat": 4,
 "nbformat_minor": 5
}
