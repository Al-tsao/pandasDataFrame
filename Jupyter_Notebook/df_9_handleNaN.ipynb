{
 "cells": [
  {
   "cell_type": "code",
   "execution_count": 5,
   "id": "24876aa8",
   "metadata": {},
   "outputs": [],
   "source": [
    "import pandas as pd\n",
    "import numpy as np"
   ]
  },
  {
   "cell_type": "code",
   "execution_count": 6,
   "id": "b14f0eba",
   "metadata": {},
   "outputs": [
    {
     "data": {
      "text/html": [
       "<div>\n",
       "<style scoped>\n",
       "    .dataframe tbody tr th:only-of-type {\n",
       "        vertical-align: middle;\n",
       "    }\n",
       "\n",
       "    .dataframe tbody tr th {\n",
       "        vertical-align: top;\n",
       "    }\n",
       "\n",
       "    .dataframe thead th {\n",
       "        text-align: right;\n",
       "    }\n",
       "</style>\n",
       "<table border=\"1\" class=\"dataframe\">\n",
       "  <thead>\n",
       "    <tr style=\"text-align: right;\">\n",
       "      <th></th>\n",
       "      <th>Day</th>\n",
       "      <th>Revenue</th>\n",
       "      <th>Cost</th>\n",
       "    </tr>\n",
       "  </thead>\n",
       "  <tbody>\n",
       "    <tr>\n",
       "      <th>0</th>\n",
       "      <td>9/4</td>\n",
       "      <td>100.0</td>\n",
       "      <td>10.0</td>\n",
       "    </tr>\n",
       "    <tr>\n",
       "      <th>1</th>\n",
       "      <td>9/5</td>\n",
       "      <td>NaN</td>\n",
       "      <td>NaN</td>\n",
       "    </tr>\n",
       "    <tr>\n",
       "      <th>2</th>\n",
       "      <td>9/6</td>\n",
       "      <td>130.0</td>\n",
       "      <td>13.0</td>\n",
       "    </tr>\n",
       "    <tr>\n",
       "      <th>3</th>\n",
       "      <td>9/7</td>\n",
       "      <td>110.0</td>\n",
       "      <td>11.0</td>\n",
       "    </tr>\n",
       "    <tr>\n",
       "      <th>4</th>\n",
       "      <td>9/8</td>\n",
       "      <td>200.0</td>\n",
       "      <td>NaN</td>\n",
       "    </tr>\n",
       "    <tr>\n",
       "      <th>5</th>\n",
       "      <td>9/9</td>\n",
       "      <td>160.0</td>\n",
       "      <td>16.0</td>\n",
       "    </tr>\n",
       "    <tr>\n",
       "      <th>6</th>\n",
       "      <td>9/10</td>\n",
       "      <td>100.0</td>\n",
       "      <td>10.0</td>\n",
       "    </tr>\n",
       "    <tr>\n",
       "      <th>7</th>\n",
       "      <td>9/11</td>\n",
       "      <td>180.0</td>\n",
       "      <td>NaN</td>\n",
       "    </tr>\n",
       "  </tbody>\n",
       "</table>\n",
       "</div>"
      ],
      "text/plain": [
       "    Day  Revenue  Cost\n",
       "0   9/4    100.0  10.0\n",
       "1   9/5      NaN   NaN\n",
       "2   9/6    130.0  13.0\n",
       "3   9/7    110.0  11.0\n",
       "4   9/8    200.0   NaN\n",
       "5   9/9    160.0  16.0\n",
       "6  9/10    100.0  10.0\n",
       "7  9/11    180.0   NaN"
      ]
     },
     "execution_count": 6,
     "metadata": {},
     "output_type": "execute_result"
    }
   ],
   "source": [
    "RawData = { \"Day\":['9/4', '9/5', '9/6', '9/7', '9/8', '9/9', '9/10', '9/11'],\n",
    "            \"Revenue\":[100, np.nan, 130, 110, 200, 160, 100, 180],\n",
    "            \"Cost\":[10.0, np.nan, 13.0, 11.0, np.nan, 16.0, 10.0, np.nan]}\n",
    "df = pd.DataFrame(RawData)\n",
    "df"
   ]
  },
  {
   "cell_type": "markdown",
   "id": "79ac967b",
   "metadata": {},
   "source": [
    "**1. 使用where: 讓不符合的值變成NaN**"
   ]
  },
  {
   "cell_type": "code",
   "execution_count": null,
   "id": "75670459",
   "metadata": {},
   "outputs": [],
   "source": [
    "mask = df['Day'] != '9/4' \n",
    "df.where(mask)"
   ]
  },
  {
   "cell_type": "markdown",
   "id": "1f18617a",
   "metadata": {},
   "source": [
    "**2.使用dropna()**"
   ]
  },
  {
   "cell_type": "markdown",
   "id": "8e98835c",
   "metadata": {},
   "source": [
    "2.1 dropna()\n",
    " <br>\n",
    "只要一個NaN就會整row刪除"
   ]
  },
  {
   "cell_type": "code",
   "execution_count": null,
   "id": "732e7513",
   "metadata": {},
   "outputs": [],
   "source": [
    "df = df.dropna()\n",
    "df"
   ]
  },
  {
   "cell_type": "markdown",
   "id": "0933ddfc",
   "metadata": {},
   "source": [
    "2.2 dropna(how='all')\n",
    " <br>\n",
    "要全部NaN就，才會刪除整個row"
   ]
  },
  {
   "cell_type": "code",
   "execution_count": null,
   "id": "024a7091",
   "metadata": {},
   "outputs": [],
   "source": [
    "df.dropna(how='all')\n",
    "df"
   ]
  },
  {
   "cell_type": "markdown",
   "id": "c7c62208",
   "metadata": {},
   "source": [
    "2.2 dropna(subset=[])\n",
    " <br>\n",
    " 可以指定哪個Column中的缺值可以被移除."
   ]
  },
  {
   "cell_type": "code",
   "execution_count": 7,
   "id": "1e217f39",
   "metadata": {},
   "outputs": [
    {
     "data": {
      "text/html": [
       "<div>\n",
       "<style scoped>\n",
       "    .dataframe tbody tr th:only-of-type {\n",
       "        vertical-align: middle;\n",
       "    }\n",
       "\n",
       "    .dataframe tbody tr th {\n",
       "        vertical-align: top;\n",
       "    }\n",
       "\n",
       "    .dataframe thead th {\n",
       "        text-align: right;\n",
       "    }\n",
       "</style>\n",
       "<table border=\"1\" class=\"dataframe\">\n",
       "  <thead>\n",
       "    <tr style=\"text-align: right;\">\n",
       "      <th></th>\n",
       "      <th>Day</th>\n",
       "      <th>Revenue</th>\n",
       "      <th>Cost</th>\n",
       "    </tr>\n",
       "  </thead>\n",
       "  <tbody>\n",
       "    <tr>\n",
       "      <th>0</th>\n",
       "      <td>9/4</td>\n",
       "      <td>100.0</td>\n",
       "      <td>10.0</td>\n",
       "    </tr>\n",
       "    <tr>\n",
       "      <th>2</th>\n",
       "      <td>9/6</td>\n",
       "      <td>130.0</td>\n",
       "      <td>13.0</td>\n",
       "    </tr>\n",
       "    <tr>\n",
       "      <th>3</th>\n",
       "      <td>9/7</td>\n",
       "      <td>110.0</td>\n",
       "      <td>11.0</td>\n",
       "    </tr>\n",
       "    <tr>\n",
       "      <th>4</th>\n",
       "      <td>9/8</td>\n",
       "      <td>200.0</td>\n",
       "      <td>NaN</td>\n",
       "    </tr>\n",
       "    <tr>\n",
       "      <th>5</th>\n",
       "      <td>9/9</td>\n",
       "      <td>160.0</td>\n",
       "      <td>16.0</td>\n",
       "    </tr>\n",
       "    <tr>\n",
       "      <th>6</th>\n",
       "      <td>9/10</td>\n",
       "      <td>100.0</td>\n",
       "      <td>10.0</td>\n",
       "    </tr>\n",
       "    <tr>\n",
       "      <th>7</th>\n",
       "      <td>9/11</td>\n",
       "      <td>180.0</td>\n",
       "      <td>NaN</td>\n",
       "    </tr>\n",
       "  </tbody>\n",
       "</table>\n",
       "</div>"
      ],
      "text/plain": [
       "    Day  Revenue  Cost\n",
       "0   9/4    100.0  10.0\n",
       "2   9/6    130.0  13.0\n",
       "3   9/7    110.0  11.0\n",
       "4   9/8    200.0   NaN\n",
       "5   9/9    160.0  16.0\n",
       "6  9/10    100.0  10.0\n",
       "7  9/11    180.0   NaN"
      ]
     },
     "execution_count": 7,
     "metadata": {},
     "output_type": "execute_result"
    }
   ],
   "source": [
    "df = df.dropna(subset=['Revenue'])\n",
    "df"
   ]
  }
 ],
 "metadata": {
  "kernelspec": {
   "display_name": "Python 3 (ipykernel)",
   "language": "python",
   "name": "python3"
  },
  "language_info": {
   "codemirror_mode": {
    "name": "ipython",
    "version": 3
   },
   "file_extension": ".py",
   "mimetype": "text/x-python",
   "name": "python",
   "nbconvert_exporter": "python",
   "pygments_lexer": "ipython3",
   "version": "3.9.7"
  }
 },
 "nbformat": 4,
 "nbformat_minor": 5
}
