{
 "cells": [
  {
   "cell_type": "code",
   "execution_count": 1,
   "id": "8dcb0d9b",
   "metadata": {},
   "outputs": [],
   "source": [
    "import pandas as pd\n",
    "import numpy as np"
   ]
  },
  {
   "cell_type": "code",
   "execution_count": null,
   "id": "d7491b5b",
   "metadata": {},
   "outputs": [],
   "source": [
    "data = pd.DataFrame(np.arange(16).reshape(4,4), index = list('abcd'), columns = list('ABCD'))\n",
    "data"
   ]
  },
  {
   "cell_type": "markdown",
   "id": "715ee5c0",
   "metadata": {},
   "source": [
    "**1. 設定'A'column為index**"
   ]
  },
  {
   "cell_type": "code",
   "execution_count": null,
   "id": "7a2a61f5",
   "metadata": {},
   "outputs": [],
   "source": [
    "data.set_index(keys='A', inplace=True)\n",
    "data"
   ]
  },
  {
   "cell_type": "markdown",
   "id": "5f561e9a",
   "metadata": {},
   "source": [
    "**2. 回復'A'成column**"
   ]
  },
  {
   "cell_type": "code",
   "execution_count": null,
   "id": "4e047126",
   "metadata": {},
   "outputs": [],
   "source": [
    "data.reset_index(inplace=True)\n",
    "data"
   ]
  }
 ],
 "metadata": {
  "kernelspec": {
   "display_name": "Python 3 (ipykernel)",
   "language": "python",
   "name": "python3"
  },
  "language_info": {
   "codemirror_mode": {
    "name": "ipython",
    "version": 3
   },
   "file_extension": ".py",
   "mimetype": "text/x-python",
   "name": "python",
   "nbconvert_exporter": "python",
   "pygments_lexer": "ipython3",
   "version": "3.9.7"
  }
 },
 "nbformat": 4,
 "nbformat_minor": 5
}
