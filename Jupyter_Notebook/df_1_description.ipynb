{
 "cells": [
  {
   "cell_type": "code",
   "execution_count": null,
   "id": "9b3c8324",
   "metadata": {},
   "outputs": [],
   "source": [
    "import pandas as pd"
   ]
  },
  {
   "cell_type": "code",
   "execution_count": null,
   "id": "681be882",
   "metadata": {},
   "outputs": [],
   "source": [
    "houses = pd.read_csv('kc_house_data.csv')\n",
    "houses"
   ]
  },
  {
   "cell_type": "code",
   "execution_count": null,
   "id": "762faad2",
   "metadata": {},
   "outputs": [],
   "source": [
    "pd.options.display.min_rows = 1"
   ]
  },
  {
   "cell_type": "markdown",
   "id": "4a017876",
   "metadata": {},
   "source": [
    "**1. .head:<br>\n",
    "顯示資料前面幾筆**"
   ]
  },
  {
   "cell_type": "code",
   "execution_count": null,
   "id": "bcca3bcd",
   "metadata": {},
   "outputs": [],
   "source": [
    "houses.head(10) #數字是要看顯示幾筆資料"
   ]
  },
  {
   "cell_type": "markdown",
   "id": "15b02b90",
   "metadata": {},
   "source": [
    "**2. .tail:<br>\n",
    "顯示資料後面幾筆**"
   ]
  },
  {
   "cell_type": "code",
   "execution_count": null,
   "id": "62a0c4e5",
   "metadata": {},
   "outputs": [],
   "source": [
    "houses.tail(10) #數字是要看顯示幾筆資料"
   ]
  },
  {
   "cell_type": "markdown",
   "id": "334c32e5",
   "metadata": {},
   "source": [
    "**3. .columns:<br>\n",
    "返回所有欄位的名稱**"
   ]
  },
  {
   "cell_type": "code",
   "execution_count": null,
   "id": "19209939",
   "metadata": {},
   "outputs": [],
   "source": [
    "houses.columns"
   ]
  },
  {
   "cell_type": "markdown",
   "id": "644c5ce7",
   "metadata": {},
   "source": [
    "**4. .shape:<br>\n",
    "顯示資料大小，共幾行幾列**"
   ]
  },
  {
   "cell_type": "code",
   "execution_count": null,
   "id": "c5404b3c",
   "metadata": {},
   "outputs": [],
   "source": [
    "houses.shape"
   ]
  },
  {
   "cell_type": "markdown",
   "id": "ec41c470",
   "metadata": {},
   "source": [
    "**5. .size:<br>\n",
    "看有多少筆資料，就是column x row**"
   ]
  },
  {
   "cell_type": "code",
   "execution_count": null,
   "id": "2818181e",
   "metadata": {},
   "outputs": [],
   "source": [
    "houses.size"
   ]
  },
  {
   "cell_type": "markdown",
   "id": "4e1d04d7",
   "metadata": {},
   "source": [
    "**6. .info():<br> \n",
    "顯示檔案詳細資訊，包含有多少column、有多少Row的資料(不包含nan)、column資料型態，其中object是有文字和檔案大小**"
   ]
  },
  {
   "cell_type": "code",
   "execution_count": null,
   "id": "ea47d029",
   "metadata": {
    "scrolled": true
   },
   "outputs": [],
   "source": [
    "houses.info()"
   ]
  },
  {
   "cell_type": "markdown",
   "id": "12fa56b3",
   "metadata": {},
   "source": [
    "**7. .describe():<br> \n",
    "顯示相關敘述統計**"
   ]
  },
  {
   "cell_type": "code",
   "execution_count": null,
   "id": "b0c140fa",
   "metadata": {},
   "outputs": [],
   "source": [
    "#顯示有數據資料相關敘述統計\n",
    "houses.describe()"
   ]
  },
  {
   "cell_type": "code",
   "execution_count": null,
   "id": "78814bf4",
   "metadata": {},
   "outputs": [],
   "source": [
    "#顯示有文字資料相關敘述統計\n",
    "houses.describe(include = 'object')"
   ]
  },
  {
   "cell_type": "markdown",
   "id": "3e8dbfff",
   "metadata": {},
   "source": [
    "**8. .unique():<br> \n",
    "顯示column中到底有多少個不同的值**"
   ]
  },
  {
   "cell_type": "code",
   "execution_count": null,
   "id": "b2d60927",
   "metadata": {},
   "outputs": [],
   "source": [
    "houses['date'].unique()"
   ]
  },
  {
   "cell_type": "markdown",
   "id": "a7718b5b",
   "metadata": {},
   "source": [
    "**9. .dtypes:<br>\n",
    "顯示每一個column的型態**"
   ]
  },
  {
   "cell_type": "code",
   "execution_count": null,
   "id": "364d6ef6",
   "metadata": {},
   "outputs": [],
   "source": [
    "houses.dtypes"
   ]
  }
 ],
 "metadata": {
  "kernelspec": {
   "display_name": "Python 3 (ipykernel)",
   "language": "python",
   "name": "python3"
  },
  "language_info": {
   "codemirror_mode": {
    "name": "ipython",
    "version": 3
   },
   "file_extension": ".py",
   "mimetype": "text/x-python",
   "name": "python",
   "nbconvert_exporter": "python",
   "pygments_lexer": "ipython3",
   "version": "3.9.7"
  }
 },
 "nbformat": 4,
 "nbformat_minor": 5
}
