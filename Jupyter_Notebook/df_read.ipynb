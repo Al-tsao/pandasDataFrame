{
 "cells": [
  {
   "cell_type": "code",
   "execution_count": 1,
   "id": "27ee76a0",
   "metadata": {},
   "outputs": [],
   "source": [
    "import pandas as pd\n",
    "import numpy as np"
   ]
  },
  {
   "cell_type": "markdown",
   "id": "d106ca93",
   "metadata": {},
   "source": [
    "**1. 讀取檔案**"
   ]
  },
  {
   "cell_type": "code",
   "execution_count": null,
   "id": "9666c210",
   "metadata": {},
   "outputs": [],
   "source": [
    "df = pd.read_csv('kc_house_data.csv')\n",
    "df"
   ]
  },
  {
   "cell_type": "markdown",
   "id": "503c31dd",
   "metadata": {},
   "source": [
    "**2. 提取DataFrame中特定位置**"
   ]
  },
  {
   "cell_type": "code",
   "execution_count": 11,
   "id": "4ec49f2e",
   "metadata": {},
   "outputs": [
    {
     "data": {
      "text/html": [
       "<div>\n",
       "<style scoped>\n",
       "    .dataframe tbody tr th:only-of-type {\n",
       "        vertical-align: middle;\n",
       "    }\n",
       "\n",
       "    .dataframe tbody tr th {\n",
       "        vertical-align: top;\n",
       "    }\n",
       "\n",
       "    .dataframe thead th {\n",
       "        text-align: right;\n",
       "    }\n",
       "</style>\n",
       "<table border=\"1\" class=\"dataframe\">\n",
       "  <thead>\n",
       "    <tr style=\"text-align: right;\">\n",
       "      <th></th>\n",
       "      <th>A</th>\n",
       "      <th>B</th>\n",
       "      <th>C</th>\n",
       "      <th>D</th>\n",
       "    </tr>\n",
       "  </thead>\n",
       "  <tbody>\n",
       "    <tr>\n",
       "      <th>a</th>\n",
       "      <td>0</td>\n",
       "      <td>1</td>\n",
       "      <td>2</td>\n",
       "      <td>3</td>\n",
       "    </tr>\n",
       "    <tr>\n",
       "      <th>b</th>\n",
       "      <td>4</td>\n",
       "      <td>5</td>\n",
       "      <td>6</td>\n",
       "      <td>7</td>\n",
       "    </tr>\n",
       "    <tr>\n",
       "      <th>c</th>\n",
       "      <td>8</td>\n",
       "      <td>9</td>\n",
       "      <td>10</td>\n",
       "      <td>11</td>\n",
       "    </tr>\n",
       "    <tr>\n",
       "      <th>d</th>\n",
       "      <td>12</td>\n",
       "      <td>13</td>\n",
       "      <td>14</td>\n",
       "      <td>15</td>\n",
       "    </tr>\n",
       "  </tbody>\n",
       "</table>\n",
       "</div>"
      ],
      "text/plain": [
       "    A   B   C   D\n",
       "a   0   1   2   3\n",
       "b   4   5   6   7\n",
       "c   8   9  10  11\n",
       "d  12  13  14  15"
      ]
     },
     "execution_count": 11,
     "metadata": {},
     "output_type": "execute_result"
    }
   ],
   "source": [
    "data = pd.DataFrame(np.arange(16).reshape(4,4), index = list('abcd'), columns = list('ABCD'))\n",
    "data"
   ]
  },
  {
   "cell_type": "markdown",
   "id": "a0653195",
   "metadata": {},
   "source": [
    "2.1 取索引為'a'的row"
   ]
  },
  {
   "cell_type": "code",
   "execution_count": null,
   "id": "33fc127e",
   "metadata": {},
   "outputs": [],
   "source": [
    "data.loc['a']"
   ]
  },
  {
   "cell_type": "code",
   "execution_count": null,
   "id": "765f8f43",
   "metadata": {},
   "outputs": [],
   "source": [
    "data.iloc[0]"
   ]
  },
  {
   "cell_type": "markdown",
   "id": "bf699860",
   "metadata": {},
   "source": [
    "2.2 取A和D的column"
   ]
  },
  {
   "cell_type": "code",
   "execution_count": null,
   "id": "526a7268",
   "metadata": {},
   "outputs": [],
   "source": [
    "data.loc[:,['A', 'D']]"
   ]
  },
  {
   "cell_type": "code",
   "execution_count": null,
   "id": "e12fd7b6",
   "metadata": {},
   "outputs": [],
   "source": [
    "data.iloc[:,[0, 3]]"
   ]
  },
  {
   "cell_type": "markdown",
   "id": "ef4b3f72",
   "metadata": {},
   "source": [
    "2.3 取特定index和column"
   ]
  },
  {
   "cell_type": "code",
   "execution_count": null,
   "id": "32ef9679",
   "metadata": {},
   "outputs": [],
   "source": [
    "data.loc[['a','b'],['A','B']]"
   ]
  },
  {
   "cell_type": "code",
   "execution_count": null,
   "id": "6ac20b86",
   "metadata": {},
   "outputs": [],
   "source": [
    "data.iloc[[0,1],[0,1]]"
   ]
  },
  {
   "cell_type": "markdown",
   "id": "f213d723",
   "metadata": {},
   "source": [
    "2.4 取所有值"
   ]
  },
  {
   "cell_type": "code",
   "execution_count": null,
   "id": "ef1a7262",
   "metadata": {},
   "outputs": [],
   "source": [
    "data.loc[:,:]"
   ]
  },
  {
   "cell_type": "code",
   "execution_count": null,
   "id": "34c3ae36",
   "metadata": {},
   "outputs": [],
   "source": [
    "data.iloc[:,:]"
   ]
  },
  {
   "cell_type": "markdown",
   "id": "189e367d",
   "metadata": {},
   "source": [
    "2.5 跳著選"
   ]
  },
  {
   "cell_type": "code",
   "execution_count": null,
   "id": "c0940a8e",
   "metadata": {},
   "outputs": [],
   "source": [
    "data.iloc[:,::2] #start:stop:step ref:https://stackoverflow.com/questions/509211/understanding-slice-notation"
   ]
  },
  {
   "cell_type": "markdown",
   "id": "fdeddd51",
   "metadata": {},
   "source": [
    "2.6 反過來選"
   ]
  },
  {
   "cell_type": "code",
   "execution_count": null,
   "id": "94c78464",
   "metadata": {},
   "outputs": [],
   "source": [
    "data.iloc[:,::-1] #start:stop:step"
   ]
  }
 ],
 "metadata": {
  "kernelspec": {
   "display_name": "Python 3 (ipykernel)",
   "language": "python",
   "name": "python3"
  },
  "language_info": {
   "codemirror_mode": {
    "name": "ipython",
    "version": 3
   },
   "file_extension": ".py",
   "mimetype": "text/x-python",
   "name": "python",
   "nbconvert_exporter": "python",
   "pygments_lexer": "ipython3",
   "version": "3.9.7"
  }
 },
 "nbformat": 4,
 "nbformat_minor": 5
}
