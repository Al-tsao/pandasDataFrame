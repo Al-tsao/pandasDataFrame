{
 "cells": [
  {
   "cell_type": "code",
   "execution_count": 2,
   "id": "f7d23379",
   "metadata": {},
   "outputs": [],
   "source": [
    "import pandas as pd\n",
    "import numpy as np"
   ]
  },
  {
   "cell_type": "markdown",
   "id": "f5086cf3",
   "metadata": {},
   "source": [
    "## Create"
   ]
  },
  {
   "cell_type": "code",
   "execution_count": null,
   "id": "9d894e2f",
   "metadata": {},
   "outputs": [],
   "source": [
    "RawData = { \"Day\":['9/4', '9/5', '9/6', '9/7', '9/8', '9/9', '9/10', '9/11'],\n",
    "            \"Revnue\":[100, 120, 130, 110, 200, 160, 100, 180],\n",
    "            \"Cost\":[10.0, 12.0, 13.0, 11.0, 20.0, 16.0, 10.0, 18.0]}\n",
    "df = pd.DataFrame(RawData)\n",
    "df"
   ]
  },
  {
   "cell_type": "markdown",
   "id": "3399bc19",
   "metadata": {},
   "source": [
    "## Read"
   ]
  },
  {
   "cell_type": "markdown",
   "id": "d106ca93",
   "metadata": {},
   "source": [
    "**1.讀取檔案**"
   ]
  },
  {
   "cell_type": "code",
   "execution_count": null,
   "id": "b75be727",
   "metadata": {},
   "outputs": [],
   "source": [
    "df = pd.read_csv('kc_house_data.csv')\n",
    "df"
   ]
  },
  {
   "cell_type": "markdown",
   "id": "503c31dd",
   "metadata": {},
   "source": [
    "**2.提取DataFrame中特定位置**"
   ]
  },
  {
   "cell_type": "markdown",
   "id": "6384add5",
   "metadata": {},
   "source": [
    "## Update"
   ]
  },
  {
   "cell_type": "markdown",
   "id": "fa8a2bce",
   "metadata": {},
   "source": [
    "**1.修改特定的row**"
   ]
  },
  {
   "cell_type": "code",
   "execution_count": 3,
   "id": "44c589a1",
   "metadata": {},
   "outputs": [
    {
     "data": {
      "text/html": [
       "<div>\n",
       "<style scoped>\n",
       "    .dataframe tbody tr th:only-of-type {\n",
       "        vertical-align: middle;\n",
       "    }\n",
       "\n",
       "    .dataframe tbody tr th {\n",
       "        vertical-align: top;\n",
       "    }\n",
       "\n",
       "    .dataframe thead th {\n",
       "        text-align: right;\n",
       "    }\n",
       "</style>\n",
       "<table border=\"1\" class=\"dataframe\">\n",
       "  <thead>\n",
       "    <tr style=\"text-align: right;\">\n",
       "      <th></th>\n",
       "      <th>A</th>\n",
       "      <th>B</th>\n",
       "      <th>C</th>\n",
       "      <th>D</th>\n",
       "    </tr>\n",
       "  </thead>\n",
       "  <tbody>\n",
       "    <tr>\n",
       "      <th>a</th>\n",
       "      <td>0</td>\n",
       "      <td>1</td>\n",
       "      <td>2</td>\n",
       "      <td>3</td>\n",
       "    </tr>\n",
       "    <tr>\n",
       "      <th>b</th>\n",
       "      <td>4</td>\n",
       "      <td>5</td>\n",
       "      <td>6</td>\n",
       "      <td>7</td>\n",
       "    </tr>\n",
       "    <tr>\n",
       "      <th>c</th>\n",
       "      <td>8</td>\n",
       "      <td>9</td>\n",
       "      <td>10</td>\n",
       "      <td>11</td>\n",
       "    </tr>\n",
       "    <tr>\n",
       "      <th>d</th>\n",
       "      <td>12</td>\n",
       "      <td>13</td>\n",
       "      <td>14</td>\n",
       "      <td>15</td>\n",
       "    </tr>\n",
       "  </tbody>\n",
       "</table>\n",
       "</div>"
      ],
      "text/plain": [
       "    A   B   C   D\n",
       "a   0   1   2   3\n",
       "b   4   5   6   7\n",
       "c   8   9  10  11\n",
       "d  12  13  14  15"
      ]
     },
     "execution_count": 3,
     "metadata": {},
     "output_type": "execute_result"
    }
   ],
   "source": [
    "data = pd.DataFrame(np.arange(16).reshape(4,4), index = list('abcd'), columns = list('ABCD'))\n",
    "data"
   ]
  },
  {
   "cell_type": "code",
   "execution_count": null,
   "id": "69273e75",
   "metadata": {},
   "outputs": [],
   "source": [
    "#取索引為'a'的row\n",
    "data.loc['a'] = ['A', 'B', 'C', 'D']\n",
    "data.iloc[0]\n",
    "data"
   ]
  },
  {
   "cell_type": "markdown",
   "id": "c6363590",
   "metadata": {},
   "source": [
    "**2.修改特定的column**"
   ]
  },
  {
   "cell_type": "code",
   "execution_count": null,
   "id": "ba524190",
   "metadata": {},
   "outputs": [],
   "source": [
    "data = pd.DataFrame(np.arange(16).reshape(4,4), index = list('abcd'), columns = list('ABCD'))\n",
    "data"
   ]
  },
  {
   "cell_type": "code",
   "execution_count": null,
   "id": "e71e268b",
   "metadata": {},
   "outputs": [],
   "source": [
    "#取'A'的column\n",
    "data.loc[:,['A']] = ['A', 'B', 'C', 'D']\n",
    "data.iloc[:,[0]]\n",
    "data"
   ]
  },
  {
   "cell_type": "markdown",
   "id": "80102180",
   "metadata": {},
   "source": [
    "**3.修改全部column**"
   ]
  },
  {
   "cell_type": "code",
   "execution_count": null,
   "id": "8e34e6ea",
   "metadata": {},
   "outputs": [],
   "source": [
    "#方法一\n",
    "df = pd.read_csv('nst-est2020.csv')\n",
    "df.columns = ['A', 'B', 'C', 'D', 'E', 'F', 'G', 'H', 'I', 'J', 'K', 'L', 'M', 'N', 'O', 'P', 'Q', 'R', 'S']\n",
    "df"
   ]
  },
  {
   "cell_type": "code",
   "execution_count": null,
   "id": "85069a87",
   "metadata": {},
   "outputs": [],
   "source": [
    "#方法二\n",
    "columnNames = ['A', 'B', 'C', 'D', 'E', 'F', 'G', 'H', 'I', 'J', 'K', 'L', 'M', 'N', 'O', 'P', 'Q', 'R', 'S']\n",
    "df = pd.read_csv('nst-est2020.csv', names = columnNames, header = 0)\n",
    "df"
   ]
  },
  {
   "cell_type": "markdown",
   "id": "e6921d0b",
   "metadata": {},
   "source": [
    "**4.插入特定row**"
   ]
  },
  {
   "cell_type": "code",
   "execution_count": null,
   "id": "1261b7c4",
   "metadata": {},
   "outputs": [],
   "source": [
    "#插入到最後一row後面\n",
    "data = pd.DataFrame(np.arange(16).reshape(4,4), index = list('abcd'), columns = list('ABCD'))\n",
    "dataAdd = pd.DataFrame(np.arange(4).reshape(1,4), index = list('e'), columns = list('ABCD'))\n",
    "data.append(dataAdd)"
   ]
  },
  {
   "cell_type": "code",
   "execution_count": null,
   "id": "03ee48bf",
   "metadata": {},
   "outputs": [],
   "source": [
    "#插入到指定row後面: 先將原始的df在第i行切割，分成兩個部分df1和df2。然後再利用pd.concat()將[df1, df_add, df2]合併成一個df\n",
    "data = pd.DataFrame(np.arange(16).reshape(4,4), index = list('abcd'), columns = list('ABCD'))\n",
    "dataAdd = pd.DataFrame(np.arange(4).reshape(1,4), index = list('e'), columns = list('ABCD'))\n",
    "data1 = data.iloc[:1, :]\n",
    "data2 = data.iloc[1:, :]\n",
    "dataNew = pd.concat([data1, dataAdd, data2])\n",
    "data1"
   ]
  },
  {
   "cell_type": "markdown",
   "id": "7b0f1308",
   "metadata": {},
   "source": [
    "**5.插入特定column**"
   ]
  },
  {
   "cell_type": "code",
   "execution_count": null,
   "id": "a69f773f",
   "metadata": {},
   "outputs": [],
   "source": [
    "#插入到最後一column之後\n",
    "data = pd.DataFrame(np.arange(16).reshape(4,4), index = list('abcd'), columns = list('ABCD'))\n",
    "data['E'] = ['W', 'X', 'Y', 'Z']\n",
    "data"
   ]
  },
  {
   "cell_type": "code",
   "execution_count": null,
   "id": "bf84e7b7",
   "metadata": {},
   "outputs": [],
   "source": [
    "#插入到指定row後面:\n",
    "dataRangeD = pd.date_range(start = '2021/09/01', end = '2021/9/30', freq = '1D') #freq = '1D': 間格是以1天為單位\n",
    "dates = pd.DataFrame(dataRangeD, columns = ['Date'])\n",
    "dates['Data'] = [1]*dates.shape[0]\n",
    "dates.insert(1, \"Day of Week\", dates['Date'].dt.day_name())\n",
    "dates"
   ]
  },
  {
   "cell_type": "markdown",
   "id": "e87d8946",
   "metadata": {},
   "source": [
    "## Delete"
   ]
  },
  {
   "cell_type": "code",
   "execution_count": null,
   "id": "ef775c8f",
   "metadata": {},
   "outputs": [],
   "source": [
    "#插入到指定column後面"
   ]
  },
  {
   "cell_type": "markdown",
   "id": "dc86c5f5",
   "metadata": {},
   "source": [
    "**1.刪除特定row**"
   ]
  },
  {
   "cell_type": "code",
   "execution_count": 9,
   "id": "79330277",
   "metadata": {},
   "outputs": [],
   "source": [
    "df = pd.DataFrame([['Jhon',15,'A'],['Anna',19,'B'],['Paul',25,'D']])\n",
    "df.columns = ['Name','Age','Grade']"
   ]
  },
  {
   "cell_type": "code",
   "execution_count": 15,
   "id": "f7524d1e",
   "metadata": {},
   "outputs": [],
   "source": [
    "i = df[((df.Name == 'Jhon') & ( df.Age == 15) & (df.Grade == 'A'))].index.tolist()\n",
    "df_dropRow = df.drop(i, axis=0)\n",
    "df_dropRow"
   ]
  },
  {
   "cell_type": "markdown",
   "id": "6cced46e",
   "metadata": {},
   "source": [
    "**2.刪除特定column**"
   ]
  },
  {
   "cell_type": "code",
   "execution_count": null,
   "id": "51f415a6",
   "metadata": {},
   "outputs": [],
   "source": [
    "df = pd.DataFrame([['Jhon',15,'A'],['Anna',19,'B'],['Paul',25,'D']])\n",
    "df.columns = ['Name','Age','Grade']\n",
    "df"
   ]
  },
  {
   "cell_type": "code",
   "execution_count": null,
   "id": "7fb3a58f",
   "metadata": {},
   "outputs": [],
   "source": [
    "df_dropColumn = df.drop(['Age'], axis=1)\n",
    "df_dropColumn"
   ]
  }
 ],
 "metadata": {
  "kernelspec": {
   "display_name": "Python 3 (ipykernel)",
   "language": "python",
   "name": "python3"
  },
  "language_info": {
   "codemirror_mode": {
    "name": "ipython",
    "version": 3
   },
   "file_extension": ".py",
   "mimetype": "text/x-python",
   "name": "python",
   "nbconvert_exporter": "python",
   "pygments_lexer": "ipython3",
   "version": "3.9.7"
  }
 },
 "nbformat": 4,
 "nbformat_minor": 5
}
